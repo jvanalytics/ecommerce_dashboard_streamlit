{
 "cells": [
  {
   "cell_type": "code",
   "execution_count": 1,
   "metadata": {},
   "outputs": [
    {
     "data": {
      "text/html": [
       "<div>\n",
       "<style scoped>\n",
       "    .dataframe tbody tr th:only-of-type {\n",
       "        vertical-align: middle;\n",
       "    }\n",
       "\n",
       "    .dataframe tbody tr th {\n",
       "        vertical-align: top;\n",
       "    }\n",
       "\n",
       "    .dataframe thead th {\n",
       "        text-align: right;\n",
       "    }\n",
       "</style>\n",
       "<table border=\"1\" class=\"dataframe\">\n",
       "  <thead>\n",
       "    <tr style=\"text-align: right;\">\n",
       "      <th></th>\n",
       "      <th>event_date</th>\n",
       "      <th>session</th>\n",
       "      <th>user</th>\n",
       "      <th>page_type</th>\n",
       "      <th>event_type</th>\n",
       "      <th>product</th>\n",
       "    </tr>\n",
       "  </thead>\n",
       "  <tbody>\n",
       "    <tr>\n",
       "      <th>0</th>\n",
       "      <td>2022-10-08 17:02:41</td>\n",
       "      <td>14274187577460658115s</td>\n",
       "      <td>2006979063809820329u</td>\n",
       "      <td>search_listing_page</td>\n",
       "      <td>page_view</td>\n",
       "      <td>0</td>\n",
       "    </tr>\n",
       "    <tr>\n",
       "      <th>1</th>\n",
       "      <td>2022-10-08 17:06:19</td>\n",
       "      <td>14274187577460658115s</td>\n",
       "      <td>2006979063809820329u</td>\n",
       "      <td>search_listing_page</td>\n",
       "      <td>page_view</td>\n",
       "      <td>0</td>\n",
       "    </tr>\n",
       "    <tr>\n",
       "      <th>2</th>\n",
       "      <td>2022-10-08 22:19:47</td>\n",
       "      <td>2704204808571844605s</td>\n",
       "      <td>2007646148110679693u</td>\n",
       "      <td>listing_page</td>\n",
       "      <td>page_view</td>\n",
       "      <td>0</td>\n",
       "    </tr>\n",
       "    <tr>\n",
       "      <th>3</th>\n",
       "      <td>2022-10-08 22:24:30</td>\n",
       "      <td>8970170322512311099s</td>\n",
       "      <td>11839491588321754710u</td>\n",
       "      <td>search_listing_page</td>\n",
       "      <td>page_view</td>\n",
       "      <td>0</td>\n",
       "    </tr>\n",
       "    <tr>\n",
       "      <th>4</th>\n",
       "      <td>2022-10-08 21:22:20</td>\n",
       "      <td>16223970371660715740s</td>\n",
       "      <td>11839887495958431209u</td>\n",
       "      <td>product_page</td>\n",
       "      <td>page_view</td>\n",
       "      <td>0</td>\n",
       "    </tr>\n",
       "  </tbody>\n",
       "</table>\n",
       "</div>"
      ],
      "text/plain": [
       "            event_date                session                   user  \\\n",
       "0  2022-10-08 17:02:41  14274187577460658115s   2006979063809820329u   \n",
       "1  2022-10-08 17:06:19  14274187577460658115s   2006979063809820329u   \n",
       "2  2022-10-08 22:19:47   2704204808571844605s   2007646148110679693u   \n",
       "3  2022-10-08 22:24:30   8970170322512311099s  11839491588321754710u   \n",
       "4  2022-10-08 21:22:20  16223970371660715740s  11839887495958431209u   \n",
       "\n",
       "             page_type event_type  product  \n",
       "0  search_listing_page  page_view        0  \n",
       "1  search_listing_page  page_view        0  \n",
       "2         listing_page  page_view        0  \n",
       "3  search_listing_page  page_view        0  \n",
       "4         product_page  page_view        0  "
      ]
     },
     "execution_count": 1,
     "metadata": {},
     "output_type": "execute_result"
    }
   ],
   "source": [
    "import pandas as pd\n",
    "\n",
    "filepath='data_set_da_test.csv'\n",
    "\n",
    "df=pd.read_csv(filepath)\n",
    "\n",
    "df.head()"
   ]
  },
  {
   "cell_type": "code",
   "execution_count": 2,
   "metadata": {},
   "outputs": [
    {
     "name": "stdout",
     "output_type": "stream",
     "text": [
      "<class 'pandas.core.frame.DataFrame'>\n",
      "RangeIndex: 637238 entries, 0 to 637237\n",
      "Data columns (total 6 columns):\n",
      " #   Column      Non-Null Count   Dtype \n",
      "---  ------      --------------   ----- \n",
      " 0   event_date  637238 non-null  object\n",
      " 1   session     637238 non-null  object\n",
      " 2   user        637238 non-null  object\n",
      " 3   page_type   637238 non-null  object\n",
      " 4   event_type  637238 non-null  object\n",
      " 5   product     637238 non-null  int64 \n",
      "dtypes: int64(1), object(5)\n",
      "memory usage: 29.2+ MB\n"
     ]
    }
   ],
   "source": [
    "df.info()"
   ]
  },
  {
   "cell_type": "markdown",
   "metadata": {},
   "source": [
    "## Event and pagetype value counts"
   ]
  },
  {
   "cell_type": "code",
   "execution_count": 3,
   "metadata": {},
   "outputs": [
    {
     "name": "stdout",
     "output_type": "stream",
     "text": [
      "    event_type   count\n",
      "0  add_to_cart   15999\n",
      "1        order    8741\n",
      "2    page_view  612498\n"
     ]
    }
   ],
   "source": [
    "event_type_counts = df.groupby('event_type').size().reset_index(name='count')\n",
    "print(event_type_counts)\n",
    "\n"
   ]
  },
  {
   "cell_type": "code",
   "execution_count": 4,
   "metadata": {},
   "outputs": [
    {
     "name": "stdout",
     "output_type": "stream",
     "text": [
      "             page_type   count\n",
      "0         listing_page  231789\n",
      "1           order_page    8741\n",
      "2         product_page  282950\n",
      "3  search_listing_page  113758\n"
     ]
    }
   ],
   "source": [
    "page_type_counts = df.groupby('page_type').size().reset_index(name='count')\n",
    "print(page_type_counts)"
   ]
  },
  {
   "cell_type": "markdown",
   "metadata": {},
   "source": [
    "# event and pagetype value counts by session and user id"
   ]
  },
  {
   "cell_type": "markdown",
   "metadata": {},
   "source": [
    "## event"
   ]
  },
  {
   "cell_type": "code",
   "execution_count": 5,
   "metadata": {},
   "outputs": [
    {
     "name": "stdout",
     "output_type": "stream",
     "text": [
      "    event_type  unique_user_count\n",
      "0  add_to_cart              10060\n",
      "1        order               7338\n",
      "2    page_view             287453\n"
     ]
    }
   ],
   "source": [
    "event_type_user_counts = df.groupby('event_type')['user'].nunique().reset_index(name='unique_user_count')\n",
    "print(event_type_user_counts)"
   ]
  },
  {
   "cell_type": "code",
   "execution_count": 6,
   "metadata": {},
   "outputs": [
    {
     "name": "stdout",
     "output_type": "stream",
     "text": [
      "    event_type  unique_session_count\n",
      "0  add_to_cart                 10667\n",
      "1        order                  7637\n",
      "2    page_view                339345\n"
     ]
    }
   ],
   "source": [
    "event_type_session_counts = df.groupby('event_type')['session'].nunique().reset_index(name='unique_session_count')\n",
    "print(event_type_session_counts)"
   ]
  },
  {
   "cell_type": "markdown",
   "metadata": {},
   "source": [
    "## page"
   ]
  },
  {
   "cell_type": "code",
   "execution_count": 7,
   "metadata": {},
   "outputs": [
    {
     "name": "stdout",
     "output_type": "stream",
     "text": [
      "             page_type  unique_user_count\n",
      "0         listing_page             153009\n",
      "1           order_page               7338\n",
      "2         product_page             142515\n",
      "3  search_listing_page              27711\n"
     ]
    }
   ],
   "source": [
    "page_type_user_counts = df.groupby('page_type')['user'].nunique().reset_index(name='unique_user_count')\n",
    "print(page_type_user_counts)"
   ]
  },
  {
   "cell_type": "code",
   "execution_count": 8,
   "metadata": {},
   "outputs": [
    {
     "name": "stdout",
     "output_type": "stream",
     "text": [
      "             page_type  unique_session_count\n",
      "0         listing_page                180930\n",
      "1           order_page                  7637\n",
      "2         product_page                162856\n",
      "3  search_listing_page                 32498\n"
     ]
    }
   ],
   "source": [
    "page_type_session_counts = df.groupby('page_type')['session'].nunique().reset_index(name='unique_session_count')\n",
    "print(page_type_session_counts)"
   ]
  },
  {
   "cell_type": "markdown",
   "metadata": {},
   "source": [
    "# Funnel definition\n",
    "Looking at available data schema the Purchase Funnel can be defined by count the number of sessions or users per major step (action or page)\n",
    "\n",
    "1. Total Traffic\n",
    "2. Interest demonstration (page visit on listing page, product page or search listing page) - an user can add an item through any of these three page types\n",
    "3. Add to Cart\n",
    "4. Purchase\n",
    "\n",
    "\n",
    "Additionally other important data\n",
    "\n",
    "- Successfull Search and discovery Rate (search or listing page results in product page view or add to cart)\n",
    "- breakdown of funnel metrics by product id"
   ]
  },
  {
   "cell_type": "markdown",
   "metadata": {},
   "source": [
    "## Total Metrics"
   ]
  },
  {
   "cell_type": "code",
   "execution_count": 9,
   "metadata": {},
   "outputs": [
    {
     "name": "stdout",
     "output_type": "stream",
     "text": [
      "sessions: 340443\n",
      "interested sessions: 339411\n",
      "add to cart sessions: 10667\n",
      "purchase sessions: 7637\n"
     ]
    }
   ],
   "source": [
    "total_sessions=df['session'].nunique()\n",
    "print(f'sessions: {total_sessions}')\n",
    "\n",
    "\n",
    "interested_session_df=df[df['page_type'] != 'order_page']\n",
    "interested_sessions=interested_session_df['session'].nunique()\n",
    "\n",
    "print(f'interested sessions: {interested_sessions}')\n",
    "\n",
    "\n",
    "\n",
    "add_to_cart_df=df[df['event_type'] == 'add_to_cart']\n",
    "add_to_cart_sessions=add_to_cart_df['session'].nunique()\n",
    "\n",
    "print(f'add to cart sessions: {add_to_cart_sessions}')\n",
    "\n",
    "\n",
    "purchase_df=df[df['event_type'] == 'order']\n",
    "purchase_sessions=purchase_df['session'].nunique()\n",
    "\n",
    "print(f'purchase sessions: {purchase_sessions}')"
   ]
  },
  {
   "cell_type": "markdown",
   "metadata": {},
   "source": [
    "## dataframe event and pagetype filters"
   ]
  },
  {
   "cell_type": "code",
   "execution_count": 10,
   "metadata": {},
   "outputs": [
    {
     "name": "stdout",
     "output_type": "stream",
     "text": [
      "search_listing_sessions: 32498\n",
      "search_listing_atc_sessions: 1992\n",
      "listing_df: 180930\n",
      "listing_atc_sessions: 386\n",
      "product_page_sessions: 162856\n",
      "product_page_atc_sessions: 8879\n"
     ]
    }
   ],
   "source": [
    "\n",
    "search_listing_df=df[df['page_type'] == 'search_listing_page']\n",
    "search_listing_sessions=search_listing_df['session'].nunique()\n",
    "print(f'search_listing_sessions: {search_listing_sessions}')\n",
    "\n",
    "search_listing_atc_df=df[(df['page_type'] == 'search_listing_page') & (df['event_type']=='add_to_cart')]\n",
    "\n",
    "\n",
    "listing_df=df[df['page_type'] == 'listing_page']\n",
    "listing_sessions=listing_df['session'].nunique()\n",
    "print(f'listing_df: {listing_sessions}')\n",
    "\n",
    "\n",
    "listing_atc_df=df[(df['page_type'] == 'listing_page') & (df['event_type']=='add_to_cart')]\n",
    "listing_atc_sessions=listing_atc_df['session'].nunique()\n",
    "print(f'listing_atc_sessions: {listing_atc_sessions}')\n",
    "\n",
    "\n",
    "product_page_df=df[df['page_type'] == 'product_page']\n",
    "product_page_sessions=product_page_df['session'].nunique()\n",
    "print(f'product_page_sessions: {product_page_sessions}')\n",
    "\n",
    "\n",
    "product_page_atc_df=df[(df['page_type'] == 'product_page') & (df['event_type']=='add_to_cart')]\n",
    "product_page_atc_sessions=product_page_atc_df['session'].nunique()\n",
    "print(f'product_page_atc_sessions: {product_page_atc_sessions}')\n"
   ]
  },
  {
   "cell_type": "code",
   "execution_count": 27,
   "metadata": {},
   "outputs": [
    {
     "name": "stdout",
     "output_type": "stream",
     "text": [
      "search_listing_page metrics:\n",
      "sessions                340443\n",
      "interested_sessions     339411\n",
      "add_to_cart_sessions      1992\n",
      "purchase_sessions          844\n",
      "dtype: int64\n",
      "\n",
      "listing_page metrics:\n",
      "sessions                340443\n",
      "interested_sessions     339411\n",
      "add_to_cart_sessions       386\n",
      "purchase_sessions           95\n",
      "dtype: int64\n",
      "\n",
      "product_page metrics:\n",
      "sessions                340443\n",
      "interested_sessions     339411\n",
      "add_to_cart_sessions      8879\n",
      "purchase_sessions         3603\n",
      "dtype: int64\n",
      "\n"
     ]
    }
   ],
   "source": [
    "def funnel_merge_df_type(df, page_type):\n",
    "    total_sessions = df['session'].nunique()\n",
    "\n",
    "    if page_type == 'search_listing_page':\n",
    "        df_funnel = df.merge(search_listing_df, on='session', how='left', suffixes=('', '_search'))\n",
    "        df_funnel['purchase'] = df_funnel['session'].isin(search_listing_atc_df['session'])\n",
    "        atc_type_sessions = search_listing_atc_df['session'].nunique()\n",
    "        purchase_sessions = search_listing_atc_df.merge(purchase_df, on='session', how='inner')['session'].nunique()\n",
    "\n",
    "\n",
    "    elif page_type == 'listing_page':\n",
    "        df_funnel = df.merge(listing_df, on='session', how='left', suffixes=('', '_listing'))\n",
    "        df_funnel['purchase'] = df_funnel['session'].isin(listing_atc_df['session'])\n",
    "        atc_type_sessions = listing_atc_df['session'].nunique()\n",
    "        purchase_sessions = listing_atc_df.merge(purchase_df, on='session', how='inner')['session'].nunique()\n",
    "\n",
    "\n",
    "    elif page_type == 'product_page':\n",
    "        df_funnel = df.merge(product_page_df, on='session', how='left', suffixes=('', '_product'))\n",
    "        df_funnel['purchase'] = df_funnel['session'].isin(product_page_atc_df['session'])\n",
    "        atc_type_sessions = product_page_atc_df['session'].nunique()\n",
    "        purchase_sessions = product_page_atc_df.merge(purchase_df, on='session', how='inner')['session'].nunique()\n",
    "\n",
    "\n",
    "    else:\n",
    "        raise ValueError(f\"Unknown page type: {page_type}\")\n",
    "\n",
    "\n",
    "    return pd.Series({\n",
    "        'sessions': total_sessions,\n",
    "        'interested_sessions': interested_sessions,\n",
    "        'add_to_cart_sessions': atc_type_sessions,\n",
    "        'purchase_sessions': purchase_sessions\n",
    "    })\n",
    "\n",
    "# Example usage:\n",
    "for page_type in ['search_listing_page', 'listing_page', 'product_page']:\n",
    "    metrics = funnel_merge_df_type(df, page_type)\n",
    "    print(f\"{page_type} metrics:\\n{metrics}\\n\")\n"
   ]
  },
  {
   "cell_type": "code",
   "execution_count": 28,
   "metadata": {},
   "outputs": [
    {
     "name": "stdout",
     "output_type": "stream",
     "text": [
      "search_listing_page metrics:\n",
      "sessions                340443\n",
      "interested_sessions      32498\n",
      "add_to_cart_sessions      1992\n",
      "purchase_sessions          844\n",
      "dtype: int64\n",
      "\n",
      "listing_page metrics:\n",
      "sessions                340443\n",
      "interested_sessions     180930\n",
      "add_to_cart_sessions       386\n",
      "purchase_sessions           95\n",
      "dtype: int64\n",
      "\n",
      "product_page metrics:\n",
      "sessions                340443\n",
      "interested_sessions     162856\n",
      "add_to_cart_sessions      8879\n",
      "purchase_sessions         3603\n",
      "dtype: int64\n",
      "\n"
     ]
    }
   ],
   "source": [
    "def funnel_merge_df_type(df, page_type):\n",
    "\n",
    "    total_sessions = df['session'].nunique()\n",
    "\n",
    "    if page_type == 'search_listing_page':\n",
    "        df_funnel = df.merge(search_listing_df, on='session', how='left')\n",
    "        interested_type_sessions = search_listing_df['session'].nunique()\n",
    "        atc_type_sessions = search_listing_atc_df['session'].nunique()\n",
    "        purchase_sessions = search_listing_atc_df.merge(purchase_df, on='session', how='inner')['session'].nunique()\n",
    "\n",
    "    elif page_type == 'listing_page':\n",
    "        df_funnel = df.merge(listing_df, on='session', how='left')\n",
    "        interested_type_sessions = listing_df['session'].nunique()\n",
    "        atc_type_sessions = listing_atc_df['session'].nunique()\n",
    "        purchase_sessions = listing_atc_df.merge(purchase_df, on='session', how='inner')['session'].nunique()\n",
    "\n",
    "    elif page_type == 'product_page':\n",
    "        df_funnel = df.merge(product_page_df, on='session', how='left')\n",
    "        interested_type_sessions = product_page_df['session'].nunique()\n",
    "        atc_type_sessions = product_page_atc_df['session'].nunique()\n",
    "        purchase_sessions = product_page_atc_df.merge(purchase_df, on='session', how='inner')['session'].nunique()\n",
    "\n",
    "    else:\n",
    "        raise ValueError(f\"Unknown page type: {page_type}\")\n",
    "\n",
    "    return pd.Series({\n",
    "        'sessions': total_sessions,\n",
    "        'interested_sessions': interested_type_sessions,\n",
    "        'add_to_cart_sessions': atc_type_sessions,\n",
    "        'purchase_sessions': purchase_sessions\n",
    "    })\n",
    "\n",
    "# Example usage:\n",
    "for page_type in ['search_listing_page', 'listing_page', 'product_page']:\n",
    "    metrics = funnel_merge_df_type(df, page_type)\n",
    "    print(f\"{page_type} metrics:\\n{metrics}\\n\")\n"
   ]
  },
  {
   "cell_type": "markdown",
   "metadata": {},
   "source": [
    "## Conversion Rate Metrics"
   ]
  },
  {
   "cell_type": "code",
   "execution_count": 11,
   "metadata": {},
   "outputs": [
    {
     "name": "stdout",
     "output_type": "stream",
     "text": [
      "session conversion rate: 2.24 %\n",
      "add to cart rate: 3.13 %\n",
      "Cart Abandonment rate: 28.41 %\n"
     ]
    }
   ],
   "source": [
    "session_cr=round(purchase_sessions/total_sessions*100,2)\n",
    "print(f'session conversion rate: {session_cr} %')\n",
    "\n",
    "add_to_cart_rate=round(add_to_cart_sessions/total_sessions*100,2)\n",
    "print(f'add to cart rate: {add_to_cart_rate} %')\n",
    "\n",
    "cart_abandonment_rate=round((add_to_cart_sessions-purchase_sessions)/add_to_cart_sessions*100,2)\n",
    "print(f'Cart Abandonment rate: {cart_abandonment_rate} %')\n"
   ]
  },
  {
   "cell_type": "markdown",
   "metadata": {},
   "source": [
    "# Funnel Visualization with Plotly"
   ]
  },
  {
   "cell_type": "code",
   "execution_count": 12,
   "metadata": {},
   "outputs": [
    {
     "data": {
      "application/vnd.plotly.v1+json": {
       "config": {
        "plotlyServerURL": "https://plotly.com"
       },
       "data": [
        {
         "textinfo": "value+percent initial",
         "type": "funnel",
         "x": [
          340443,
          339411,
          10667,
          7637
         ],
         "y": [
          "Total Sessions",
          "Interested Sessions",
          "Add to Cart Sessions",
          "Purchase Sessions"
         ]
        }
       ],
       "layout": {
        "template": {
         "data": {
          "bar": [
           {
            "error_x": {
             "color": "#2a3f5f"
            },
            "error_y": {
             "color": "#2a3f5f"
            },
            "marker": {
             "line": {
              "color": "#E5ECF6",
              "width": 0.5
             },
             "pattern": {
              "fillmode": "overlay",
              "size": 10,
              "solidity": 0.2
             }
            },
            "type": "bar"
           }
          ],
          "barpolar": [
           {
            "marker": {
             "line": {
              "color": "#E5ECF6",
              "width": 0.5
             },
             "pattern": {
              "fillmode": "overlay",
              "size": 10,
              "solidity": 0.2
             }
            },
            "type": "barpolar"
           }
          ],
          "carpet": [
           {
            "aaxis": {
             "endlinecolor": "#2a3f5f",
             "gridcolor": "white",
             "linecolor": "white",
             "minorgridcolor": "white",
             "startlinecolor": "#2a3f5f"
            },
            "baxis": {
             "endlinecolor": "#2a3f5f",
             "gridcolor": "white",
             "linecolor": "white",
             "minorgridcolor": "white",
             "startlinecolor": "#2a3f5f"
            },
            "type": "carpet"
           }
          ],
          "choropleth": [
           {
            "colorbar": {
             "outlinewidth": 0,
             "ticks": ""
            },
            "type": "choropleth"
           }
          ],
          "contour": [
           {
            "colorbar": {
             "outlinewidth": 0,
             "ticks": ""
            },
            "colorscale": [
             [
              0,
              "#0d0887"
             ],
             [
              0.1111111111111111,
              "#46039f"
             ],
             [
              0.2222222222222222,
              "#7201a8"
             ],
             [
              0.3333333333333333,
              "#9c179e"
             ],
             [
              0.4444444444444444,
              "#bd3786"
             ],
             [
              0.5555555555555556,
              "#d8576b"
             ],
             [
              0.6666666666666666,
              "#ed7953"
             ],
             [
              0.7777777777777778,
              "#fb9f3a"
             ],
             [
              0.8888888888888888,
              "#fdca26"
             ],
             [
              1,
              "#f0f921"
             ]
            ],
            "type": "contour"
           }
          ],
          "contourcarpet": [
           {
            "colorbar": {
             "outlinewidth": 0,
             "ticks": ""
            },
            "type": "contourcarpet"
           }
          ],
          "heatmap": [
           {
            "colorbar": {
             "outlinewidth": 0,
             "ticks": ""
            },
            "colorscale": [
             [
              0,
              "#0d0887"
             ],
             [
              0.1111111111111111,
              "#46039f"
             ],
             [
              0.2222222222222222,
              "#7201a8"
             ],
             [
              0.3333333333333333,
              "#9c179e"
             ],
             [
              0.4444444444444444,
              "#bd3786"
             ],
             [
              0.5555555555555556,
              "#d8576b"
             ],
             [
              0.6666666666666666,
              "#ed7953"
             ],
             [
              0.7777777777777778,
              "#fb9f3a"
             ],
             [
              0.8888888888888888,
              "#fdca26"
             ],
             [
              1,
              "#f0f921"
             ]
            ],
            "type": "heatmap"
           }
          ],
          "heatmapgl": [
           {
            "colorbar": {
             "outlinewidth": 0,
             "ticks": ""
            },
            "colorscale": [
             [
              0,
              "#0d0887"
             ],
             [
              0.1111111111111111,
              "#46039f"
             ],
             [
              0.2222222222222222,
              "#7201a8"
             ],
             [
              0.3333333333333333,
              "#9c179e"
             ],
             [
              0.4444444444444444,
              "#bd3786"
             ],
             [
              0.5555555555555556,
              "#d8576b"
             ],
             [
              0.6666666666666666,
              "#ed7953"
             ],
             [
              0.7777777777777778,
              "#fb9f3a"
             ],
             [
              0.8888888888888888,
              "#fdca26"
             ],
             [
              1,
              "#f0f921"
             ]
            ],
            "type": "heatmapgl"
           }
          ],
          "histogram": [
           {
            "marker": {
             "pattern": {
              "fillmode": "overlay",
              "size": 10,
              "solidity": 0.2
             }
            },
            "type": "histogram"
           }
          ],
          "histogram2d": [
           {
            "colorbar": {
             "outlinewidth": 0,
             "ticks": ""
            },
            "colorscale": [
             [
              0,
              "#0d0887"
             ],
             [
              0.1111111111111111,
              "#46039f"
             ],
             [
              0.2222222222222222,
              "#7201a8"
             ],
             [
              0.3333333333333333,
              "#9c179e"
             ],
             [
              0.4444444444444444,
              "#bd3786"
             ],
             [
              0.5555555555555556,
              "#d8576b"
             ],
             [
              0.6666666666666666,
              "#ed7953"
             ],
             [
              0.7777777777777778,
              "#fb9f3a"
             ],
             [
              0.8888888888888888,
              "#fdca26"
             ],
             [
              1,
              "#f0f921"
             ]
            ],
            "type": "histogram2d"
           }
          ],
          "histogram2dcontour": [
           {
            "colorbar": {
             "outlinewidth": 0,
             "ticks": ""
            },
            "colorscale": [
             [
              0,
              "#0d0887"
             ],
             [
              0.1111111111111111,
              "#46039f"
             ],
             [
              0.2222222222222222,
              "#7201a8"
             ],
             [
              0.3333333333333333,
              "#9c179e"
             ],
             [
              0.4444444444444444,
              "#bd3786"
             ],
             [
              0.5555555555555556,
              "#d8576b"
             ],
             [
              0.6666666666666666,
              "#ed7953"
             ],
             [
              0.7777777777777778,
              "#fb9f3a"
             ],
             [
              0.8888888888888888,
              "#fdca26"
             ],
             [
              1,
              "#f0f921"
             ]
            ],
            "type": "histogram2dcontour"
           }
          ],
          "mesh3d": [
           {
            "colorbar": {
             "outlinewidth": 0,
             "ticks": ""
            },
            "type": "mesh3d"
           }
          ],
          "parcoords": [
           {
            "line": {
             "colorbar": {
              "outlinewidth": 0,
              "ticks": ""
             }
            },
            "type": "parcoords"
           }
          ],
          "pie": [
           {
            "automargin": true,
            "type": "pie"
           }
          ],
          "scatter": [
           {
            "fillpattern": {
             "fillmode": "overlay",
             "size": 10,
             "solidity": 0.2
            },
            "type": "scatter"
           }
          ],
          "scatter3d": [
           {
            "line": {
             "colorbar": {
              "outlinewidth": 0,
              "ticks": ""
             }
            },
            "marker": {
             "colorbar": {
              "outlinewidth": 0,
              "ticks": ""
             }
            },
            "type": "scatter3d"
           }
          ],
          "scattercarpet": [
           {
            "marker": {
             "colorbar": {
              "outlinewidth": 0,
              "ticks": ""
             }
            },
            "type": "scattercarpet"
           }
          ],
          "scattergeo": [
           {
            "marker": {
             "colorbar": {
              "outlinewidth": 0,
              "ticks": ""
             }
            },
            "type": "scattergeo"
           }
          ],
          "scattergl": [
           {
            "marker": {
             "colorbar": {
              "outlinewidth": 0,
              "ticks": ""
             }
            },
            "type": "scattergl"
           }
          ],
          "scattermapbox": [
           {
            "marker": {
             "colorbar": {
              "outlinewidth": 0,
              "ticks": ""
             }
            },
            "type": "scattermapbox"
           }
          ],
          "scatterpolar": [
           {
            "marker": {
             "colorbar": {
              "outlinewidth": 0,
              "ticks": ""
             }
            },
            "type": "scatterpolar"
           }
          ],
          "scatterpolargl": [
           {
            "marker": {
             "colorbar": {
              "outlinewidth": 0,
              "ticks": ""
             }
            },
            "type": "scatterpolargl"
           }
          ],
          "scatterternary": [
           {
            "marker": {
             "colorbar": {
              "outlinewidth": 0,
              "ticks": ""
             }
            },
            "type": "scatterternary"
           }
          ],
          "surface": [
           {
            "colorbar": {
             "outlinewidth": 0,
             "ticks": ""
            },
            "colorscale": [
             [
              0,
              "#0d0887"
             ],
             [
              0.1111111111111111,
              "#46039f"
             ],
             [
              0.2222222222222222,
              "#7201a8"
             ],
             [
              0.3333333333333333,
              "#9c179e"
             ],
             [
              0.4444444444444444,
              "#bd3786"
             ],
             [
              0.5555555555555556,
              "#d8576b"
             ],
             [
              0.6666666666666666,
              "#ed7953"
             ],
             [
              0.7777777777777778,
              "#fb9f3a"
             ],
             [
              0.8888888888888888,
              "#fdca26"
             ],
             [
              1,
              "#f0f921"
             ]
            ],
            "type": "surface"
           }
          ],
          "table": [
           {
            "cells": {
             "fill": {
              "color": "#EBF0F8"
             },
             "line": {
              "color": "white"
             }
            },
            "header": {
             "fill": {
              "color": "#C8D4E3"
             },
             "line": {
              "color": "white"
             }
            },
            "type": "table"
           }
          ]
         },
         "layout": {
          "annotationdefaults": {
           "arrowcolor": "#2a3f5f",
           "arrowhead": 0,
           "arrowwidth": 1
          },
          "autotypenumbers": "strict",
          "coloraxis": {
           "colorbar": {
            "outlinewidth": 0,
            "ticks": ""
           }
          },
          "colorscale": {
           "diverging": [
            [
             0,
             "#8e0152"
            ],
            [
             0.1,
             "#c51b7d"
            ],
            [
             0.2,
             "#de77ae"
            ],
            [
             0.3,
             "#f1b6da"
            ],
            [
             0.4,
             "#fde0ef"
            ],
            [
             0.5,
             "#f7f7f7"
            ],
            [
             0.6,
             "#e6f5d0"
            ],
            [
             0.7,
             "#b8e186"
            ],
            [
             0.8,
             "#7fbc41"
            ],
            [
             0.9,
             "#4d9221"
            ],
            [
             1,
             "#276419"
            ]
           ],
           "sequential": [
            [
             0,
             "#0d0887"
            ],
            [
             0.1111111111111111,
             "#46039f"
            ],
            [
             0.2222222222222222,
             "#7201a8"
            ],
            [
             0.3333333333333333,
             "#9c179e"
            ],
            [
             0.4444444444444444,
             "#bd3786"
            ],
            [
             0.5555555555555556,
             "#d8576b"
            ],
            [
             0.6666666666666666,
             "#ed7953"
            ],
            [
             0.7777777777777778,
             "#fb9f3a"
            ],
            [
             0.8888888888888888,
             "#fdca26"
            ],
            [
             1,
             "#f0f921"
            ]
           ],
           "sequentialminus": [
            [
             0,
             "#0d0887"
            ],
            [
             0.1111111111111111,
             "#46039f"
            ],
            [
             0.2222222222222222,
             "#7201a8"
            ],
            [
             0.3333333333333333,
             "#9c179e"
            ],
            [
             0.4444444444444444,
             "#bd3786"
            ],
            [
             0.5555555555555556,
             "#d8576b"
            ],
            [
             0.6666666666666666,
             "#ed7953"
            ],
            [
             0.7777777777777778,
             "#fb9f3a"
            ],
            [
             0.8888888888888888,
             "#fdca26"
            ],
            [
             1,
             "#f0f921"
            ]
           ]
          },
          "colorway": [
           "#636efa",
           "#EF553B",
           "#00cc96",
           "#ab63fa",
           "#FFA15A",
           "#19d3f3",
           "#FF6692",
           "#B6E880",
           "#FF97FF",
           "#FECB52"
          ],
          "font": {
           "color": "#2a3f5f"
          },
          "geo": {
           "bgcolor": "white",
           "lakecolor": "white",
           "landcolor": "#E5ECF6",
           "showlakes": true,
           "showland": true,
           "subunitcolor": "white"
          },
          "hoverlabel": {
           "align": "left"
          },
          "hovermode": "closest",
          "mapbox": {
           "style": "light"
          },
          "paper_bgcolor": "white",
          "plot_bgcolor": "#E5ECF6",
          "polar": {
           "angularaxis": {
            "gridcolor": "white",
            "linecolor": "white",
            "ticks": ""
           },
           "bgcolor": "#E5ECF6",
           "radialaxis": {
            "gridcolor": "white",
            "linecolor": "white",
            "ticks": ""
           }
          },
          "scene": {
           "xaxis": {
            "backgroundcolor": "#E5ECF6",
            "gridcolor": "white",
            "gridwidth": 2,
            "linecolor": "white",
            "showbackground": true,
            "ticks": "",
            "zerolinecolor": "white"
           },
           "yaxis": {
            "backgroundcolor": "#E5ECF6",
            "gridcolor": "white",
            "gridwidth": 2,
            "linecolor": "white",
            "showbackground": true,
            "ticks": "",
            "zerolinecolor": "white"
           },
           "zaxis": {
            "backgroundcolor": "#E5ECF6",
            "gridcolor": "white",
            "gridwidth": 2,
            "linecolor": "white",
            "showbackground": true,
            "ticks": "",
            "zerolinecolor": "white"
           }
          },
          "shapedefaults": {
           "line": {
            "color": "#2a3f5f"
           }
          },
          "ternary": {
           "aaxis": {
            "gridcolor": "white",
            "linecolor": "white",
            "ticks": ""
           },
           "baxis": {
            "gridcolor": "white",
            "linecolor": "white",
            "ticks": ""
           },
           "bgcolor": "#E5ECF6",
           "caxis": {
            "gridcolor": "white",
            "linecolor": "white",
            "ticks": ""
           }
          },
          "title": {
           "x": 0.05
          },
          "xaxis": {
           "automargin": true,
           "gridcolor": "white",
           "linecolor": "white",
           "ticks": "",
           "title": {
            "standoff": 15
           },
           "zerolinecolor": "white",
           "zerolinewidth": 2
          },
          "yaxis": {
           "automargin": true,
           "gridcolor": "white",
           "linecolor": "white",
           "ticks": "",
           "title": {
            "standoff": 15
           },
           "zerolinecolor": "white",
           "zerolinewidth": 2
          }
         }
        },
        "title": {
         "text": "Funnel Visualization"
        }
       }
      }
     },
     "metadata": {},
     "output_type": "display_data"
    }
   ],
   "source": [
    "import plotly.graph_objects as go\n",
    "\n",
    "stages = ['Total Sessions', 'Interested Sessions', 'Add to Cart Sessions', 'Purchase Sessions']\n",
    "values = [total_sessions, interested_sessions, add_to_cart_sessions, purchase_sessions]\n",
    "\n",
    "fig = go.Figure(go.Funnel(\n",
    "    y = stages,\n",
    "    x = values,\n",
    "    textinfo = \"value+percent initial\"\n",
    "))\n",
    "\n",
    "fig.update_layout(title=\"Funnel Visualization\")\n",
    "\n",
    "fig.show()"
   ]
  }
 ],
 "metadata": {
  "kernelspec": {
   "display_name": "Python 3",
   "language": "python",
   "name": "python3"
  },
  "language_info": {
   "codemirror_mode": {
    "name": "ipython",
    "version": 3
   },
   "file_extension": ".py",
   "mimetype": "text/x-python",
   "name": "python",
   "nbconvert_exporter": "python",
   "pygments_lexer": "ipython3",
   "version": "3.11.9"
  }
 },
 "nbformat": 4,
 "nbformat_minor": 2
}
