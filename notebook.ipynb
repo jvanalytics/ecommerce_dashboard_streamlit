{
 "cells": [
  {
   "cell_type": "code",
   "execution_count": 4,
   "metadata": {},
   "outputs": [
    {
     "data": {
      "text/html": [
       "<div>\n",
       "<style scoped>\n",
       "    .dataframe tbody tr th:only-of-type {\n",
       "        vertical-align: middle;\n",
       "    }\n",
       "\n",
       "    .dataframe tbody tr th {\n",
       "        vertical-align: top;\n",
       "    }\n",
       "\n",
       "    .dataframe thead th {\n",
       "        text-align: right;\n",
       "    }\n",
       "</style>\n",
       "<table border=\"1\" class=\"dataframe\">\n",
       "  <thead>\n",
       "    <tr style=\"text-align: right;\">\n",
       "      <th></th>\n",
       "      <th>event_date</th>\n",
       "      <th>session</th>\n",
       "      <th>user</th>\n",
       "      <th>page_type</th>\n",
       "      <th>event_type</th>\n",
       "      <th>product</th>\n",
       "    </tr>\n",
       "  </thead>\n",
       "  <tbody>\n",
       "    <tr>\n",
       "      <th>0</th>\n",
       "      <td>2022-10-08 17:02:41</td>\n",
       "      <td>14274187577460658115s</td>\n",
       "      <td>2006979063809820329u</td>\n",
       "      <td>search_listing_page</td>\n",
       "      <td>page_view</td>\n",
       "      <td>0</td>\n",
       "    </tr>\n",
       "    <tr>\n",
       "      <th>1</th>\n",
       "      <td>2022-10-08 17:06:19</td>\n",
       "      <td>14274187577460658115s</td>\n",
       "      <td>2006979063809820329u</td>\n",
       "      <td>search_listing_page</td>\n",
       "      <td>page_view</td>\n",
       "      <td>0</td>\n",
       "    </tr>\n",
       "    <tr>\n",
       "      <th>2</th>\n",
       "      <td>2022-10-08 22:19:47</td>\n",
       "      <td>2704204808571844605s</td>\n",
       "      <td>2007646148110679693u</td>\n",
       "      <td>listing_page</td>\n",
       "      <td>page_view</td>\n",
       "      <td>0</td>\n",
       "    </tr>\n",
       "    <tr>\n",
       "      <th>3</th>\n",
       "      <td>2022-10-08 22:24:30</td>\n",
       "      <td>8970170322512311099s</td>\n",
       "      <td>11839491588321754710u</td>\n",
       "      <td>search_listing_page</td>\n",
       "      <td>page_view</td>\n",
       "      <td>0</td>\n",
       "    </tr>\n",
       "    <tr>\n",
       "      <th>4</th>\n",
       "      <td>2022-10-08 21:22:20</td>\n",
       "      <td>16223970371660715740s</td>\n",
       "      <td>11839887495958431209u</td>\n",
       "      <td>product_page</td>\n",
       "      <td>page_view</td>\n",
       "      <td>0</td>\n",
       "    </tr>\n",
       "  </tbody>\n",
       "</table>\n",
       "</div>"
      ],
      "text/plain": [
       "            event_date                session                   user  \\\n",
       "0  2022-10-08 17:02:41  14274187577460658115s   2006979063809820329u   \n",
       "1  2022-10-08 17:06:19  14274187577460658115s   2006979063809820329u   \n",
       "2  2022-10-08 22:19:47   2704204808571844605s   2007646148110679693u   \n",
       "3  2022-10-08 22:24:30   8970170322512311099s  11839491588321754710u   \n",
       "4  2022-10-08 21:22:20  16223970371660715740s  11839887495958431209u   \n",
       "\n",
       "             page_type event_type  product  \n",
       "0  search_listing_page  page_view        0  \n",
       "1  search_listing_page  page_view        0  \n",
       "2         listing_page  page_view        0  \n",
       "3  search_listing_page  page_view        0  \n",
       "4         product_page  page_view        0  "
      ]
     },
     "execution_count": 4,
     "metadata": {},
     "output_type": "execute_result"
    }
   ],
   "source": [
    "import pandas as pd\n",
    "\n",
    "filepath='data_set_da_test.csv'\n",
    "\n",
    "df=pd.read_csv(filepath)\n",
    "\n",
    "df.head()"
   ]
  },
  {
   "cell_type": "code",
   "execution_count": 5,
   "metadata": {},
   "outputs": [
    {
     "name": "stdout",
     "output_type": "stream",
     "text": [
      "<class 'pandas.core.frame.DataFrame'>\n",
      "RangeIndex: 637238 entries, 0 to 637237\n",
      "Data columns (total 6 columns):\n",
      " #   Column      Non-Null Count   Dtype \n",
      "---  ------      --------------   ----- \n",
      " 0   event_date  637238 non-null  object\n",
      " 1   session     637238 non-null  object\n",
      " 2   user        637238 non-null  object\n",
      " 3   page_type   637238 non-null  object\n",
      " 4   event_type  637238 non-null  object\n",
      " 5   product     637238 non-null  int64 \n",
      "dtypes: int64(1), object(5)\n",
      "memory usage: 29.2+ MB\n"
     ]
    }
   ],
   "source": [
    "df.info()"
   ]
  },
  {
   "cell_type": "markdown",
   "metadata": {},
   "source": [
    "## Event and pagetype value counts"
   ]
  },
  {
   "cell_type": "code",
   "execution_count": 6,
   "metadata": {},
   "outputs": [
    {
     "name": "stdout",
     "output_type": "stream",
     "text": [
      "    event_type   count\n",
      "0  add_to_cart   15999\n",
      "1        order    8741\n",
      "2    page_view  612498\n"
     ]
    }
   ],
   "source": [
    "event_type_counts = df.groupby('event_type').size().reset_index(name='count')\n",
    "print(event_type_counts)\n",
    "\n"
   ]
  },
  {
   "cell_type": "code",
   "execution_count": 7,
   "metadata": {},
   "outputs": [
    {
     "name": "stdout",
     "output_type": "stream",
     "text": [
      "             page_type   count\n",
      "0         listing_page  231789\n",
      "1           order_page    8741\n",
      "2         product_page  282950\n",
      "3  search_listing_page  113758\n"
     ]
    }
   ],
   "source": [
    "page_type_counts = df.groupby('page_type').size().reset_index(name='count')\n",
    "print(page_type_counts)"
   ]
  },
  {
   "cell_type": "markdown",
   "metadata": {},
   "source": [
    "# event and pagetype value counts by session and user id"
   ]
  },
  {
   "cell_type": "markdown",
   "metadata": {},
   "source": [
    "## event"
   ]
  },
  {
   "cell_type": "code",
   "execution_count": 8,
   "metadata": {},
   "outputs": [
    {
     "name": "stdout",
     "output_type": "stream",
     "text": [
      "    event_type  unique_user_count\n",
      "0  add_to_cart              10060\n",
      "1        order               7338\n",
      "2    page_view             287453\n"
     ]
    }
   ],
   "source": [
    "event_type_user_counts = df.groupby('event_type')['user'].nunique().reset_index(name='unique_user_count')\n",
    "print(event_type_user_counts)"
   ]
  },
  {
   "cell_type": "code",
   "execution_count": 9,
   "metadata": {},
   "outputs": [
    {
     "name": "stdout",
     "output_type": "stream",
     "text": [
      "    event_type  unique_session_count\n",
      "0  add_to_cart                 10667\n",
      "1        order                  7637\n",
      "2    page_view                339345\n"
     ]
    }
   ],
   "source": [
    "event_type_session_counts = df.groupby('event_type')['session'].nunique().reset_index(name='unique_session_count')\n",
    "print(event_type_session_counts)"
   ]
  },
  {
   "cell_type": "markdown",
   "metadata": {},
   "source": [
    "## page"
   ]
  },
  {
   "cell_type": "code",
   "execution_count": 10,
   "metadata": {},
   "outputs": [
    {
     "name": "stdout",
     "output_type": "stream",
     "text": [
      "             page_type  unique_user_count\n",
      "0         listing_page             153009\n",
      "1           order_page               7338\n",
      "2         product_page             142515\n",
      "3  search_listing_page              27711\n"
     ]
    }
   ],
   "source": [
    "page_type_user_counts = df.groupby('page_type')['user'].nunique().reset_index(name='unique_user_count')\n",
    "print(page_type_user_counts)"
   ]
  },
  {
   "cell_type": "code",
   "execution_count": 11,
   "metadata": {},
   "outputs": [
    {
     "name": "stdout",
     "output_type": "stream",
     "text": [
      "             page_type  unique_session_count\n",
      "0         listing_page                180930\n",
      "1           order_page                  7637\n",
      "2         product_page                162856\n",
      "3  search_listing_page                 32498\n"
     ]
    }
   ],
   "source": [
    "page_type_session_counts = df.groupby('page_type')['session'].nunique().reset_index(name='unique_session_count')\n",
    "print(page_type_session_counts)"
   ]
  },
  {
   "cell_type": "markdown",
   "metadata": {},
   "source": [
    "# Funnel definition\n",
    "Looking at available data schema the Purchase Funnel can be defined by count the number of sessions or users per major step (action or page)\n",
    "\n",
    "1. Total Traffic\n",
    "2. Interest demonstration (page visit on listing page, product page or search listing page) - an user can add an item through any of these three page types\n",
    "3. Add to Cart\n",
    "4. Purchase\n",
    "\n",
    "\n",
    "Additionally other important data\n",
    "\n",
    "- Successfull Search and discovery Rate (search or listing page results in product page view or add to cart)\n",
    "- breakdown of funnel metrics by product id"
   ]
  },
  {
   "cell_type": "markdown",
   "metadata": {},
   "source": [
    "## Total Metrics"
   ]
  },
  {
   "cell_type": "code",
   "execution_count": 12,
   "metadata": {},
   "outputs": [
    {
     "name": "stdout",
     "output_type": "stream",
     "text": [
      "sessions: 340443\n",
      "users: 288088\n",
      "sessions per user: 1.18\n",
      "interested sessions: 339411\n",
      "add to cart sessions: 10667\n",
      "purchase sessions: 7637\n"
     ]
    }
   ],
   "source": [
    "total_sessions=df['session'].nunique()\n",
    "print(f'sessions: {total_sessions}')\n",
    "\n",
    "total_users=df['user'].nunique()\n",
    "print(f'users: {total_users}')\n",
    "\n",
    "sessions_per_user=round(total_sessions/total_users,2)\n",
    "print(f'sessions per user: {sessions_per_user}')\n",
    "\n",
    "\n",
    "interested_session_df=df[df['page_type'] != 'order_page']\n",
    "interested_sessions=interested_session_df['session'].nunique()\n",
    "\n",
    "print(f'interested sessions: {interested_sessions}')\n",
    "\n",
    "\n",
    "\n",
    "add_to_cart_df=df[df['event_type'] == 'add_to_cart']\n",
    "add_to_cart_sessions=add_to_cart_df['session'].nunique()\n",
    "\n",
    "print(f'add to cart sessions: {add_to_cart_sessions}')\n",
    "\n",
    "\n",
    "purchase_df=df[df['event_type'] == 'order']\n",
    "purchase_sessions=purchase_df['session'].nunique()\n",
    "\n",
    "print(f'purchase sessions: {purchase_sessions}')"
   ]
  },
  {
   "cell_type": "markdown",
   "metadata": {},
   "source": [
    "## dataframe event and pagetype filters"
   ]
  },
  {
   "cell_type": "code",
   "execution_count": 13,
   "metadata": {},
   "outputs": [
    {
     "name": "stdout",
     "output_type": "stream",
     "text": [
      "search_listing_sessions: 32498\n",
      "search_listing_atc_sessions: 1992\n",
      "listing_df: 180930\n",
      "listing_atc_sessions: 386\n",
      "product_page_sessions: 162856\n",
      "product_page_atc_sessions: 8879\n"
     ]
    }
   ],
   "source": [
    "\n",
    "search_listing_df=df[df['page_type'] == 'search_listing_page']\n",
    "search_listing_sessions=search_listing_df['session'].nunique()\n",
    "print(f'search_listing_sessions: {search_listing_sessions}')\n",
    "\n",
    "search_listing_atc_df=df[(df['page_type'] == 'search_listing_page') & (df['event_type']=='add_to_cart')]\n",
    "search_listing_atc_sessions=search_listing_atc_df['session'].nunique()\n",
    "\n",
    "print(f'search_listing_atc_sessions: {search_listing_atc_sessions}')\n",
    "\n",
    "\n",
    "listing_df=df[df['page_type'] == 'listing_page']\n",
    "listing_sessions=listing_df['session'].nunique()\n",
    "print(f'listing_df: {listing_sessions}')\n",
    "\n",
    "\n",
    "listing_atc_df=df[(df['page_type'] == 'listing_page') & (df['event_type']=='add_to_cart')]\n",
    "listing_atc_sessions=listing_atc_df['session'].nunique()\n",
    "print(f'listing_atc_sessions: {listing_atc_sessions}')\n",
    "\n",
    "\n",
    "product_page_df=df[df['page_type'] == 'product_page']\n",
    "product_page_sessions=product_page_df['session'].nunique()\n",
    "print(f'product_page_sessions: {product_page_sessions}')\n",
    "\n",
    "\n",
    "product_page_atc_df=df[(df['page_type'] == 'product_page') & (df['event_type']=='add_to_cart')]\n",
    "product_page_atc_sessions=product_page_atc_df['session'].nunique()\n",
    "print(f'product_page_atc_sessions: {product_page_atc_sessions}')\n"
   ]
  },
  {
   "cell_type": "markdown",
   "metadata": {},
   "source": [
    "# Function for funnel breakdown"
   ]
  },
  {
   "cell_type": "code",
   "execution_count": 14,
   "metadata": {},
   "outputs": [
    {
     "name": "stdout",
     "output_type": "stream",
     "text": [
      "Search Listing Page metrics:\n",
      "sessions                340443\n",
      "interested_sessions      32498\n",
      "add_to_cart_sessions      1992\n",
      "purchase_sessions          844\n",
      "dtype: int64\n",
      "\n",
      "Listing Page metrics:\n",
      "sessions                340443\n",
      "interested_sessions     180930\n",
      "add_to_cart_sessions       386\n",
      "purchase_sessions           95\n",
      "dtype: int64\n",
      "\n",
      "Product Page metrics:\n",
      "sessions                340443\n",
      "interested_sessions     162856\n",
      "add_to_cart_sessions      8879\n",
      "purchase_sessions         3603\n",
      "dtype: int64\n",
      "\n"
     ]
    }
   ],
   "source": [
    "def funnel_merge_df_type(df, page_type):\n",
    "\n",
    "    total_sessions = df['session'].nunique()\n",
    "\n",
    "    if page_type == 'Search Listing Page':\n",
    "        df_funnel = df.merge(search_listing_df, on='session', how='left')\n",
    "        interested_type_sessions = search_listing_df['session'].nunique()\n",
    "        atc_type_sessions = search_listing_atc_df['session'].nunique()\n",
    "        purchase_sessions = search_listing_atc_df.merge(purchase_df, on='session', how='inner')['session'].nunique()\n",
    "\n",
    "    elif page_type == 'Listing Page':\n",
    "        df_funnel = df.merge(listing_df, on='session', how='left')\n",
    "        interested_type_sessions = listing_df['session'].nunique()\n",
    "        atc_type_sessions = listing_atc_df['session'].nunique()\n",
    "        purchase_sessions = listing_atc_df.merge(purchase_df, on='session', how='inner')['session'].nunique()\n",
    "\n",
    "    elif page_type == 'Product Page':\n",
    "        df_funnel = df.merge(product_page_df, on='session', how='left')\n",
    "        interested_type_sessions = product_page_df['session'].nunique()\n",
    "        atc_type_sessions = product_page_atc_df['session'].nunique()\n",
    "        purchase_sessions = product_page_atc_df.merge(purchase_df, on='session', how='inner')['session'].nunique()\n",
    "\n",
    "    else:\n",
    "        raise ValueError(f\"Unknown page type: {page_type}\")\n",
    "\n",
    "    return pd.Series({\n",
    "        'sessions': total_sessions,\n",
    "        'interested_sessions': interested_type_sessions,\n",
    "        'add_to_cart_sessions': atc_type_sessions,\n",
    "        'purchase_sessions': purchase_sessions\n",
    "    })\n",
    "\n",
    "# Example usage:\n",
    "for page_type in ['Search Listing Page', 'Listing Page', 'Product Page']:\n",
    "    metrics = funnel_merge_df_type(df, page_type)\n",
    "    print(f\"{page_type} metrics:\\n{metrics}\\n\")\n"
   ]
  },
  {
   "cell_type": "markdown",
   "metadata": {},
   "source": [
    "## General Funnel per page type"
   ]
  },
  {
   "cell_type": "code",
   "execution_count": 15,
   "metadata": {},
   "outputs": [
    {
     "ename": "KeyError",
     "evalue": "'page_type_first'",
     "output_type": "error",
     "traceback": [
      "\u001b[1;31m---------------------------------------------------------------------------\u001b[0m",
      "\u001b[1;31mKeyError\u001b[0m                                  Traceback (most recent call last)",
      "File \u001b[1;32mc:\\ProgramData\\anaconda3\\Lib\\site-packages\\pandas\\core\\indexes\\base.py:3805\u001b[0m, in \u001b[0;36mIndex.get_loc\u001b[1;34m(self, key)\u001b[0m\n\u001b[0;32m   3804\u001b[0m \u001b[38;5;28;01mtry\u001b[39;00m:\n\u001b[1;32m-> 3805\u001b[0m     \u001b[38;5;28;01mreturn\u001b[39;00m \u001b[38;5;28mself\u001b[39m\u001b[38;5;241m.\u001b[39m_engine\u001b[38;5;241m.\u001b[39mget_loc(casted_key)\n\u001b[0;32m   3806\u001b[0m \u001b[38;5;28;01mexcept\u001b[39;00m \u001b[38;5;167;01mKeyError\u001b[39;00m \u001b[38;5;28;01mas\u001b[39;00m err:\n",
      "File \u001b[1;32mindex.pyx:167\u001b[0m, in \u001b[0;36mpandas._libs.index.IndexEngine.get_loc\u001b[1;34m()\u001b[0m\n",
      "File \u001b[1;32mindex.pyx:196\u001b[0m, in \u001b[0;36mpandas._libs.index.IndexEngine.get_loc\u001b[1;34m()\u001b[0m\n",
      "File \u001b[1;32mpandas\\\\_libs\\\\hashtable_class_helper.pxi:7081\u001b[0m, in \u001b[0;36mpandas._libs.hashtable.PyObjectHashTable.get_item\u001b[1;34m()\u001b[0m\n",
      "File \u001b[1;32mpandas\\\\_libs\\\\hashtable_class_helper.pxi:7089\u001b[0m, in \u001b[0;36mpandas._libs.hashtable.PyObjectHashTable.get_item\u001b[1;34m()\u001b[0m\n",
      "\u001b[1;31mKeyError\u001b[0m: 'page_type_first'",
      "\nThe above exception was the direct cause of the following exception:\n",
      "\u001b[1;31mKeyError\u001b[0m                                  Traceback (most recent call last)",
      "Cell \u001b[1;32mIn[15], line 3\u001b[0m\n\u001b[0;32m      1\u001b[0m \u001b[38;5;66;03m# 2. create the dataframes filtered by first page type\u001b[39;00m\n\u001b[1;32m----> 3\u001b[0m search_listing_df\u001b[38;5;241m=\u001b[39mdf[df[\u001b[38;5;124m'\u001b[39m\u001b[38;5;124mpage_type_first\u001b[39m\u001b[38;5;124m'\u001b[39m] \u001b[38;5;241m==\u001b[39m \u001b[38;5;124m'\u001b[39m\u001b[38;5;124msearch_listing_page\u001b[39m\u001b[38;5;124m'\u001b[39m]\n\u001b[0;32m      4\u001b[0m search_listing_sessions\u001b[38;5;241m=\u001b[39msearch_listing_df[\u001b[38;5;124m'\u001b[39m\u001b[38;5;124msession\u001b[39m\u001b[38;5;124m'\u001b[39m]\u001b[38;5;241m.\u001b[39mnunique()\n\u001b[0;32m      5\u001b[0m \u001b[38;5;28mprint\u001b[39m(\u001b[38;5;124mf\u001b[39m\u001b[38;5;124m'\u001b[39m\u001b[38;5;124msearch_listing_sessions: \u001b[39m\u001b[38;5;132;01m{\u001b[39;00msearch_listing_sessions\u001b[38;5;132;01m}\u001b[39;00m\u001b[38;5;124m'\u001b[39m)\n",
      "File \u001b[1;32mc:\\ProgramData\\anaconda3\\Lib\\site-packages\\pandas\\core\\frame.py:4102\u001b[0m, in \u001b[0;36mDataFrame.__getitem__\u001b[1;34m(self, key)\u001b[0m\n\u001b[0;32m   4100\u001b[0m \u001b[38;5;28;01mif\u001b[39;00m \u001b[38;5;28mself\u001b[39m\u001b[38;5;241m.\u001b[39mcolumns\u001b[38;5;241m.\u001b[39mnlevels \u001b[38;5;241m>\u001b[39m \u001b[38;5;241m1\u001b[39m:\n\u001b[0;32m   4101\u001b[0m     \u001b[38;5;28;01mreturn\u001b[39;00m \u001b[38;5;28mself\u001b[39m\u001b[38;5;241m.\u001b[39m_getitem_multilevel(key)\n\u001b[1;32m-> 4102\u001b[0m indexer \u001b[38;5;241m=\u001b[39m \u001b[38;5;28mself\u001b[39m\u001b[38;5;241m.\u001b[39mcolumns\u001b[38;5;241m.\u001b[39mget_loc(key)\n\u001b[0;32m   4103\u001b[0m \u001b[38;5;28;01mif\u001b[39;00m is_integer(indexer):\n\u001b[0;32m   4104\u001b[0m     indexer \u001b[38;5;241m=\u001b[39m [indexer]\n",
      "File \u001b[1;32mc:\\ProgramData\\anaconda3\\Lib\\site-packages\\pandas\\core\\indexes\\base.py:3812\u001b[0m, in \u001b[0;36mIndex.get_loc\u001b[1;34m(self, key)\u001b[0m\n\u001b[0;32m   3807\u001b[0m     \u001b[38;5;28;01mif\u001b[39;00m \u001b[38;5;28misinstance\u001b[39m(casted_key, \u001b[38;5;28mslice\u001b[39m) \u001b[38;5;129;01mor\u001b[39;00m (\n\u001b[0;32m   3808\u001b[0m         \u001b[38;5;28misinstance\u001b[39m(casted_key, abc\u001b[38;5;241m.\u001b[39mIterable)\n\u001b[0;32m   3809\u001b[0m         \u001b[38;5;129;01mand\u001b[39;00m \u001b[38;5;28many\u001b[39m(\u001b[38;5;28misinstance\u001b[39m(x, \u001b[38;5;28mslice\u001b[39m) \u001b[38;5;28;01mfor\u001b[39;00m x \u001b[38;5;129;01min\u001b[39;00m casted_key)\n\u001b[0;32m   3810\u001b[0m     ):\n\u001b[0;32m   3811\u001b[0m         \u001b[38;5;28;01mraise\u001b[39;00m InvalidIndexError(key)\n\u001b[1;32m-> 3812\u001b[0m     \u001b[38;5;28;01mraise\u001b[39;00m \u001b[38;5;167;01mKeyError\u001b[39;00m(key) \u001b[38;5;28;01mfrom\u001b[39;00m \u001b[38;5;21;01merr\u001b[39;00m\n\u001b[0;32m   3813\u001b[0m \u001b[38;5;28;01mexcept\u001b[39;00m \u001b[38;5;167;01mTypeError\u001b[39;00m:\n\u001b[0;32m   3814\u001b[0m     \u001b[38;5;66;03m# If we have a listlike key, _check_indexing_error will raise\u001b[39;00m\n\u001b[0;32m   3815\u001b[0m     \u001b[38;5;66;03m#  InvalidIndexError. Otherwise we fall through and re-raise\u001b[39;00m\n\u001b[0;32m   3816\u001b[0m     \u001b[38;5;66;03m#  the TypeError.\u001b[39;00m\n\u001b[0;32m   3817\u001b[0m     \u001b[38;5;28mself\u001b[39m\u001b[38;5;241m.\u001b[39m_check_indexing_error(key)\n",
      "\u001b[1;31mKeyError\u001b[0m: 'page_type_first'"
     ]
    }
   ],
   "source": [
    "# 2. create the dataframes filtered by first page type\n",
    "\n",
    "search_listing_df=df[df['page_type_first'] == 'search_listing_page']\n",
    "search_listing_sessions=search_listing_df['session'].nunique()\n",
    "print(f'search_listing_sessions: {search_listing_sessions}')\n",
    "\n",
    "search_listing_atc_df=df[(df['page_type_first'] == 'search_listing_page') & (df['event_type']=='add_to_cart')]\n",
    "\n",
    "\n",
    "listing_df=df[df['page_type_first'] == 'listing_page']\n",
    "listing_sessions=listing_df['session'].nunique()\n",
    "print(f'listing_df: {listing_sessions}')\n",
    "\n",
    "\n",
    "listing_atc_df=df[(df['page_type_first'] == 'listing_page') & (df['event_type']=='add_to_cart')]\n",
    "listing_atc_sessions=listing_atc_df['session'].nunique()\n",
    "print(f'listing_atc_sessions: {listing_atc_sessions}')\n",
    "\n",
    "\n",
    "product_page_df=df[df['page_type_first'] == 'product_page']\n",
    "product_page_sessions=product_page_df['session'].nunique()\n",
    "print(f'product_page_sessions: {product_page_sessions}')\n",
    "\n",
    "\n",
    "product_page_atc_df=df[(df['page_type_first'] == 'product_page') & (df['event_type']=='add_to_cart')]\n",
    "product_page_atc_sessions=product_page_atc_df['session'].nunique()\n",
    "print(f'product_page_atc_sessions: {product_page_atc_sessions}')\n",
    "\n"
   ]
  },
  {
   "cell_type": "markdown",
   "metadata": {},
   "source": [
    "## General funnel per first page type"
   ]
  },
  {
   "cell_type": "code",
   "execution_count": null,
   "metadata": {},
   "outputs": [
    {
     "name": "stdout",
     "output_type": "stream",
     "text": [
      "Search Listing Page metrics:\n",
      "sessions                340443\n",
      "interested_sessions      15288\n",
      "add_to_cart_sessions      1040\n",
      "purchase_sessions          385\n",
      "dtype: int64\n",
      "\n",
      "Listing Page metrics:\n",
      "sessions                340443\n",
      "interested_sessions     176832\n",
      "add_to_cart_sessions      3053\n",
      "purchase_sessions         1300\n",
      "dtype: int64\n",
      "\n",
      "Product Page metrics:\n",
      "sessions                340443\n",
      "interested_sessions     146924\n",
      "add_to_cart_sessions      6564\n",
      "purchase_sessions         2554\n",
      "dtype: int64\n",
      "\n",
      "None metrics:\n",
      "sessions                340443\n",
      "interested_sessions     339411\n",
      "add_to_cart_sessions     10667\n",
      "purchase_sessions         7637\n",
      "dtype: int64\n",
      "\n"
     ]
    }
   ],
   "source": [
    "# 1st page type visited in each session\n",
    "df['event_date'] = pd.to_datetime(df['event_date'])\n",
    "df_sorted = df.sort_values(by=['session', 'event_date'])\n",
    "first_page_type_df = df_sorted.groupby('session').first().reset_index()[['session', 'page_type']]\n",
    "df_first = df.merge(first_page_type_df, on='session', how='left', suffixes=('', '_first') )\n",
    "\n",
    "\n",
    "\n",
    "# 2ndrd is the funnel function\n",
    "def funnel_merge_df_type(df, page_type):\n",
    "\n",
    "    total_type_sessions = total_sessions\n",
    "\n",
    "    if page_type == 'Search Listing Page':\n",
    "        first_search_listing_df=df[df['page_type_first'] == 'search_listing_page']\n",
    "        interested_type_sessions = first_search_listing_df['session'].nunique()\n",
    "\n",
    "        first_search_listing_atc_df=df[(df['page_type_first'] == 'search_listing_page') & (df['event_type']=='add_to_cart')]\n",
    "        atc_type_sessions = first_search_listing_atc_df['session'].nunique()\n",
    "\n",
    "        purchase_type_sessions = first_search_listing_atc_df.merge(purchase_df, on='session', how='inner')['session'].nunique()\n",
    "\n",
    "    elif page_type == 'Listing Page':\n",
    "        first_listing_df=df[df['page_type_first'] == 'listing_page']\n",
    "        interested_type_sessions = first_listing_df['session'].nunique()\n",
    "\n",
    "        first_listing_atc_df=df[(df['page_type_first'] == 'listing_page') & (df['event_type']=='add_to_cart')]\n",
    "        atc_type_sessions = first_listing_atc_df['session'].nunique()\n",
    "\n",
    "        purchase_type_sessions = first_listing_atc_df.merge(purchase_df, on='session', how='inner')['session'].nunique()\n",
    "\n",
    "    elif page_type == 'Product Page':\n",
    "        first_product_page_df=df[df['page_type_first'] == 'product_page']\n",
    "        interested_type_sessions = first_product_page_df['session'].nunique()\n",
    "\n",
    "        first_product_page_atc_df=df[(df['page_type_first'] == 'product_page') & (df['event_type']=='add_to_cart')]\n",
    "        atc_type_sessions = first_product_page_atc_df['session'].nunique()\n",
    "\n",
    "        purchase_type_sessions = first_product_page_atc_df.merge(purchase_df, on='session', how='inner')['session'].nunique()\n",
    "\n",
    "\n",
    "    elif page_type is None:\n",
    "        interested_type_sessions = interested_sessions\n",
    "        atc_type_sessions = add_to_cart_sessions\n",
    "        purchase_type_sessions = purchase_sessions\n",
    "\n",
    "\n",
    "    else:\n",
    "        raise ValueError(f\"Unknown page type: {page_type}\")\n",
    "\n",
    "    return pd.Series({\n",
    "        'sessions': total_type_sessions,\n",
    "        'interested_sessions': interested_type_sessions,\n",
    "        'add_to_cart_sessions': atc_type_sessions,\n",
    "        'purchase_sessions': purchase_type_sessions\n",
    "    })\n",
    "\n",
    "# Example usage:\n",
    "for page_type in ['Search Listing Page', 'Listing Page', 'Product Page',None]:\n",
    "    metrics = funnel_merge_df_type(df_first, page_type)\n",
    "    print(f\"{page_type} metrics:\\n{metrics}\\n\")"
   ]
  },
  {
   "cell_type": "code",
   "execution_count": null,
   "metadata": {},
   "outputs": [
    {
     "ename": "KeyError",
     "evalue": "'page_type_first'",
     "output_type": "error",
     "traceback": [
      "\u001b[1;31m---------------------------------------------------------------------------\u001b[0m",
      "\u001b[1;31mKeyError\u001b[0m                                  Traceback (most recent call last)",
      "File \u001b[1;32mc:\\Data\\Coding\\Python\\ecommerce_dashboard_streamlit\\.conda\\Lib\\site-packages\\pandas\\core\\indexes\\base.py:3805\u001b[0m, in \u001b[0;36mIndex.get_loc\u001b[1;34m(self, key)\u001b[0m\n\u001b[0;32m   3804\u001b[0m \u001b[38;5;28;01mtry\u001b[39;00m:\n\u001b[1;32m-> 3805\u001b[0m     \u001b[38;5;28;01mreturn\u001b[39;00m \u001b[38;5;28;43mself\u001b[39;49m\u001b[38;5;241;43m.\u001b[39;49m\u001b[43m_engine\u001b[49m\u001b[38;5;241;43m.\u001b[39;49m\u001b[43mget_loc\u001b[49m\u001b[43m(\u001b[49m\u001b[43mcasted_key\u001b[49m\u001b[43m)\u001b[49m\n\u001b[0;32m   3806\u001b[0m \u001b[38;5;28;01mexcept\u001b[39;00m \u001b[38;5;167;01mKeyError\u001b[39;00m \u001b[38;5;28;01mas\u001b[39;00m err:\n",
      "File \u001b[1;32mindex.pyx:167\u001b[0m, in \u001b[0;36mpandas._libs.index.IndexEngine.get_loc\u001b[1;34m()\u001b[0m\n",
      "File \u001b[1;32mindex.pyx:196\u001b[0m, in \u001b[0;36mpandas._libs.index.IndexEngine.get_loc\u001b[1;34m()\u001b[0m\n",
      "File \u001b[1;32mpandas\\\\_libs\\\\hashtable_class_helper.pxi:7081\u001b[0m, in \u001b[0;36mpandas._libs.hashtable.PyObjectHashTable.get_item\u001b[1;34m()\u001b[0m\n",
      "File \u001b[1;32mpandas\\\\_libs\\\\hashtable_class_helper.pxi:7089\u001b[0m, in \u001b[0;36mpandas._libs.hashtable.PyObjectHashTable.get_item\u001b[1;34m()\u001b[0m\n",
      "\u001b[1;31mKeyError\u001b[0m: 'page_type_first'",
      "\nThe above exception was the direct cause of the following exception:\n",
      "\u001b[1;31mKeyError\u001b[0m                                  Traceback (most recent call last)",
      "Cell \u001b[1;32mIn[15], line 35\u001b[0m\n\u001b[0;32m     33\u001b[0m \u001b[38;5;66;03m# Example usage:\u001b[39;00m\n\u001b[0;32m     34\u001b[0m \u001b[38;5;28;01mfor\u001b[39;00m page_type \u001b[38;5;129;01min\u001b[39;00m [\u001b[38;5;124m'\u001b[39m\u001b[38;5;124mSearch Listing Page\u001b[39m\u001b[38;5;124m'\u001b[39m, \u001b[38;5;124m'\u001b[39m\u001b[38;5;124mListing Page\u001b[39m\u001b[38;5;124m'\u001b[39m, \u001b[38;5;124m'\u001b[39m\u001b[38;5;124mProduct Page\u001b[39m\u001b[38;5;124m'\u001b[39m]:\n\u001b[1;32m---> 35\u001b[0m     metrics \u001b[38;5;241m=\u001b[39m \u001b[43mfunnel_merge_df_type\u001b[49m\u001b[43m(\u001b[49m\u001b[43mdf\u001b[49m\u001b[43m,\u001b[49m\u001b[43m \u001b[49m\u001b[43mpage_type\u001b[49m\u001b[43m)\u001b[49m\n\u001b[0;32m     36\u001b[0m     \u001b[38;5;28mprint\u001b[39m(\u001b[38;5;124mf\u001b[39m\u001b[38;5;124m\"\u001b[39m\u001b[38;5;132;01m{\u001b[39;00mpage_type\u001b[38;5;132;01m}\u001b[39;00m\u001b[38;5;124m metrics:\u001b[39m\u001b[38;5;130;01m\\n\u001b[39;00m\u001b[38;5;132;01m{\u001b[39;00mmetrics\u001b[38;5;132;01m}\u001b[39;00m\u001b[38;5;130;01m\\n\u001b[39;00m\u001b[38;5;124m\"\u001b[39m)\n",
      "Cell \u001b[1;32mIn[15], line 5\u001b[0m, in \u001b[0;36mfunnel_merge_df_type\u001b[1;34m(df, page_type)\u001b[0m\n\u001b[0;32m      2\u001b[0m \u001b[38;5;28;01mdef\u001b[39;00m \u001b[38;5;21mfunnel_merge_df_type\u001b[39m(df, page_type):\n\u001b[0;32m      3\u001b[0m \n\u001b[0;32m      4\u001b[0m     \u001b[38;5;66;03m# Filter the dataframe based on the first page type\u001b[39;00m\n\u001b[1;32m----> 5\u001b[0m     df_filtered \u001b[38;5;241m=\u001b[39m df[\u001b[43mdf\u001b[49m\u001b[43m[\u001b[49m\u001b[38;5;124;43m'\u001b[39;49m\u001b[38;5;124;43mpage_type_first\u001b[39;49m\u001b[38;5;124;43m'\u001b[39;49m\u001b[43m]\u001b[49m \u001b[38;5;241m==\u001b[39m page_type]\n\u001b[0;32m      6\u001b[0m     total_type_sessions \u001b[38;5;241m=\u001b[39m total_sessions\n\u001b[0;32m      8\u001b[0m     \u001b[38;5;28;01mif\u001b[39;00m page_type \u001b[38;5;241m==\u001b[39m \u001b[38;5;124m'\u001b[39m\u001b[38;5;124mSearch Listing Page\u001b[39m\u001b[38;5;124m'\u001b[39m:\n",
      "File \u001b[1;32mc:\\Data\\Coding\\Python\\ecommerce_dashboard_streamlit\\.conda\\Lib\\site-packages\\pandas\\core\\frame.py:4102\u001b[0m, in \u001b[0;36mDataFrame.__getitem__\u001b[1;34m(self, key)\u001b[0m\n\u001b[0;32m   4100\u001b[0m \u001b[38;5;28;01mif\u001b[39;00m \u001b[38;5;28mself\u001b[39m\u001b[38;5;241m.\u001b[39mcolumns\u001b[38;5;241m.\u001b[39mnlevels \u001b[38;5;241m>\u001b[39m \u001b[38;5;241m1\u001b[39m:\n\u001b[0;32m   4101\u001b[0m     \u001b[38;5;28;01mreturn\u001b[39;00m \u001b[38;5;28mself\u001b[39m\u001b[38;5;241m.\u001b[39m_getitem_multilevel(key)\n\u001b[1;32m-> 4102\u001b[0m indexer \u001b[38;5;241m=\u001b[39m \u001b[38;5;28;43mself\u001b[39;49m\u001b[38;5;241;43m.\u001b[39;49m\u001b[43mcolumns\u001b[49m\u001b[38;5;241;43m.\u001b[39;49m\u001b[43mget_loc\u001b[49m\u001b[43m(\u001b[49m\u001b[43mkey\u001b[49m\u001b[43m)\u001b[49m\n\u001b[0;32m   4103\u001b[0m \u001b[38;5;28;01mif\u001b[39;00m is_integer(indexer):\n\u001b[0;32m   4104\u001b[0m     indexer \u001b[38;5;241m=\u001b[39m [indexer]\n",
      "File \u001b[1;32mc:\\Data\\Coding\\Python\\ecommerce_dashboard_streamlit\\.conda\\Lib\\site-packages\\pandas\\core\\indexes\\base.py:3812\u001b[0m, in \u001b[0;36mIndex.get_loc\u001b[1;34m(self, key)\u001b[0m\n\u001b[0;32m   3807\u001b[0m     \u001b[38;5;28;01mif\u001b[39;00m \u001b[38;5;28misinstance\u001b[39m(casted_key, \u001b[38;5;28mslice\u001b[39m) \u001b[38;5;129;01mor\u001b[39;00m (\n\u001b[0;32m   3808\u001b[0m         \u001b[38;5;28misinstance\u001b[39m(casted_key, abc\u001b[38;5;241m.\u001b[39mIterable)\n\u001b[0;32m   3809\u001b[0m         \u001b[38;5;129;01mand\u001b[39;00m \u001b[38;5;28many\u001b[39m(\u001b[38;5;28misinstance\u001b[39m(x, \u001b[38;5;28mslice\u001b[39m) \u001b[38;5;28;01mfor\u001b[39;00m x \u001b[38;5;129;01min\u001b[39;00m casted_key)\n\u001b[0;32m   3810\u001b[0m     ):\n\u001b[0;32m   3811\u001b[0m         \u001b[38;5;28;01mraise\u001b[39;00m InvalidIndexError(key)\n\u001b[1;32m-> 3812\u001b[0m     \u001b[38;5;28;01mraise\u001b[39;00m \u001b[38;5;167;01mKeyError\u001b[39;00m(key) \u001b[38;5;28;01mfrom\u001b[39;00m \u001b[38;5;21;01merr\u001b[39;00m\n\u001b[0;32m   3813\u001b[0m \u001b[38;5;28;01mexcept\u001b[39;00m \u001b[38;5;167;01mTypeError\u001b[39;00m:\n\u001b[0;32m   3814\u001b[0m     \u001b[38;5;66;03m# If we have a listlike key, _check_indexing_error will raise\u001b[39;00m\n\u001b[0;32m   3815\u001b[0m     \u001b[38;5;66;03m#  InvalidIndexError. Otherwise we fall through and re-raise\u001b[39;00m\n\u001b[0;32m   3816\u001b[0m     \u001b[38;5;66;03m#  the TypeError.\u001b[39;00m\n\u001b[0;32m   3817\u001b[0m     \u001b[38;5;28mself\u001b[39m\u001b[38;5;241m.\u001b[39m_check_indexing_error(key)\n",
      "\u001b[1;31mKeyError\u001b[0m: 'page_type_first'"
     ]
    }
   ],
   "source": [
    "\n",
    "\n",
    "# 3rd is the funnel function\n",
    "def funnel_merge_df_type(df, page_type):\n",
    "\n",
    "    # Filter the dataframe based on the first page type\n",
    "    df_filtered = df[df['page_type_first'] == page_type]\n",
    "    total_type_sessions = total_sessions\n",
    "\n",
    "    if page_type == 'Search Listing Page':\n",
    "        interested_type_sessions = search_listing_df['session'].nunique()\n",
    "        atc_type_sessions = search_listing_atc_df['session'].nunique()\n",
    "        purchase_sessions = search_listing_atc_df.merge(purchase_df, on='session', how='inner')['session'].nunique()\n",
    "\n",
    "    elif page_type == 'Listing Page':\n",
    "        interested_type_sessions = listing_df['session'].nunique()\n",
    "        atc_type_sessions = listing_atc_df['session'].nunique()\n",
    "        purchase_sessions = listing_atc_df.merge(purchase_df, on='session', how='inner')['session'].nunique()\n",
    "\n",
    "    elif page_type == 'Product Page':\n",
    "        interested_type_sessions = product_page_df['session'].nunique()\n",
    "        atc_type_sessions = product_page_atc_df['session'].nunique()\n",
    "        purchase_sessions = product_page_atc_df.merge(purchase_df, on='session', how='inner')['session'].nunique()\n",
    "\n",
    "    else:\n",
    "        raise ValueError(f\"Unknown page type: {page_type}\")\n",
    "\n",
    "    return pd.Series({\n",
    "        'sessions': total_type_sessions,\n",
    "        'interested_sessions': interested_type_sessions,\n",
    "        'add_to_cart_sessions': atc_type_sessions,\n",
    "        'purchase_sessions': purchase_sessions\n",
    "    })\n",
    "\n",
    "# Example usage:\n",
    "for page_type in ['Search Listing Page', 'Listing Page', 'Product Page']:\n",
    "    metrics = funnel_merge_df_type(df, page_type)\n",
    "    print(f\"{page_type} metrics:\\n{metrics}\\n\")"
   ]
  },
  {
   "cell_type": "code",
   "execution_count": null,
   "metadata": {},
   "outputs": [],
   "source": [
    "df_product_atc=df[(df['event_type']=='add_to_cart')].groupby('session')['product'].nunique().reset_index(name='unique_products_added')\n",
    "\n",
    "total_products_added = df_product_atc['unique_products_added'].sum()\n",
    "\n",
    "average_products_per_session = round(total_products_added / add_to_cart_sessions,2)\n",
    "\n",
    "print(f\"products atc: {total_products_added}\")\n",
    "print(f\"Average products added to cart per session: {average_products_per_session}\")\n",
    "\n"
   ]
  },
  {
   "cell_type": "markdown",
   "metadata": {},
   "source": [
    "## Conversion Rate Metrics"
   ]
  },
  {
   "cell_type": "code",
   "execution_count": null,
   "metadata": {},
   "outputs": [],
   "source": [
    "session_cr=round(purchase_sessions/total_sessions*100,2)\n",
    "print(f'session conversion rate: {session_cr} %')\n",
    "\n",
    "add_to_cart_rate=round(add_to_cart_sessions/total_sessions*100,2)\n",
    "print(f'add to cart rate: {add_to_cart_rate} %')\n",
    "\n",
    "cart_abandonment_rate=round((add_to_cart_sessions-purchase_sessions)/add_to_cart_sessions*100,2)\n",
    "print(f'Cart Abandonment rate: {cart_abandonment_rate} %')\n"
   ]
  },
  {
   "cell_type": "markdown",
   "metadata": {},
   "source": [
    "# Funnel Visualization with Plotly"
   ]
  },
  {
   "cell_type": "code",
   "execution_count": null,
   "metadata": {},
   "outputs": [],
   "source": [
    "import plotly.graph_objects as go\n",
    "\n",
    "stages = ['Total Sessions', 'Interested Sessions', 'Add to Cart Sessions', 'Purchase Sessions']\n",
    "values = [total_sessions, interested_sessions, add_to_cart_sessions, purchase_sessions]\n",
    "\n",
    "fig = go.Figure(go.Funnel(\n",
    "    y = stages,\n",
    "    x = values,\n",
    "    textinfo = \"value+percent initial\"\n",
    "))\n",
    "\n",
    "fig.update_layout(title=\"Funnel Visualization\")\n",
    "\n",
    "fig.show()"
   ]
  },
  {
   "cell_type": "markdown",
   "metadata": {},
   "source": [
    "# Product Table Metrics\n",
    "\n",
    "- Apparently product is only filled when add_to_cart is. It lacks purchase and product pageview key events.As there are also 1.37 products added to cart per session, it does not allow for 1:1 product funnel analysis\n",
    "- One can however analyze:\n",
    "    1. how many add to cart sessions converted per product\n",
    "    2. Are there products more added to cart than others?"
   ]
  },
  {
   "cell_type": "code",
   "execution_count": null,
   "metadata": {},
   "outputs": [],
   "source": [
    "df_product_events=df[(df['event_type']!=None) & (df['product']!=0)].groupby('event_type')['session'].nunique()\n",
    "\n",
    "df_product_events\n"
   ]
  },
  {
   "cell_type": "code",
   "execution_count": null,
   "metadata": {},
   "outputs": [
    {
     "name": "stdout",
     "output_type": "stream",
     "text": [
      "products atc: 14603\n",
      "Average products added to cart per session: 1.37\n"
     ]
    }
   ],
   "source": [
    "df_product_atc=df[(df['event_type']=='add_to_cart')].groupby('session')['product'].nunique().reset_index(name='unique_products_added')\n",
    "\n",
    "total_products_added = df_product_atc['unique_products_added'].sum()\n",
    "\n",
    "average_products_per_session = round(total_products_added / add_to_cart_sessions,2)\n",
    "\n",
    "print(f\"products atc: {total_products_added}\")\n",
    "print(f\"Average products added to cart per session: {average_products_per_session}\")\n",
    "\n"
   ]
  },
  {
   "cell_type": "markdown",
   "metadata": {},
   "source": [
    "# Top products"
   ]
  },
  {
   "cell_type": "code",
   "execution_count": null,
   "metadata": {},
   "outputs": [],
   "source": [
    "df_product_top_atc=df[(df['event_type']=='add_to_cart')].groupby('product')['session'].nunique().reset_index(name='unique_products_added')\n"
   ]
  },
  {
   "cell_type": "markdown",
   "metadata": {},
   "source": [
    "# Pandas SQL"
   ]
  },
  {
   "cell_type": "code",
   "execution_count": 17,
   "metadata": {},
   "outputs": [
    {
     "data": {
      "text/html": [
       "<div>\n",
       "<style scoped>\n",
       "    .dataframe tbody tr th:only-of-type {\n",
       "        vertical-align: middle;\n",
       "    }\n",
       "\n",
       "    .dataframe tbody tr th {\n",
       "        vertical-align: top;\n",
       "    }\n",
       "\n",
       "    .dataframe thead th {\n",
       "        text-align: right;\n",
       "    }\n",
       "</style>\n",
       "<table border=\"1\" class=\"dataframe\">\n",
       "  <thead>\n",
       "    <tr style=\"text-align: right;\">\n",
       "      <th></th>\n",
       "      <th>event_date</th>\n",
       "      <th>session</th>\n",
       "      <th>user</th>\n",
       "      <th>page_type</th>\n",
       "      <th>event_type</th>\n",
       "      <th>product</th>\n",
       "    </tr>\n",
       "  </thead>\n",
       "  <tbody>\n",
       "    <tr>\n",
       "      <th>0</th>\n",
       "      <td>2022-10-08 17:02:41</td>\n",
       "      <td>14274187577460658115s</td>\n",
       "      <td>2006979063809820329u</td>\n",
       "      <td>search_listing_page</td>\n",
       "      <td>page_view</td>\n",
       "      <td>0</td>\n",
       "    </tr>\n",
       "    <tr>\n",
       "      <th>1</th>\n",
       "      <td>2022-10-08 17:06:19</td>\n",
       "      <td>14274187577460658115s</td>\n",
       "      <td>2006979063809820329u</td>\n",
       "      <td>search_listing_page</td>\n",
       "      <td>page_view</td>\n",
       "      <td>0</td>\n",
       "    </tr>\n",
       "    <tr>\n",
       "      <th>2</th>\n",
       "      <td>2022-10-08 22:19:47</td>\n",
       "      <td>2704204808571844605s</td>\n",
       "      <td>2007646148110679693u</td>\n",
       "      <td>listing_page</td>\n",
       "      <td>page_view</td>\n",
       "      <td>0</td>\n",
       "    </tr>\n",
       "    <tr>\n",
       "      <th>3</th>\n",
       "      <td>2022-10-08 22:24:30</td>\n",
       "      <td>8970170322512311099s</td>\n",
       "      <td>11839491588321754710u</td>\n",
       "      <td>search_listing_page</td>\n",
       "      <td>page_view</td>\n",
       "      <td>0</td>\n",
       "    </tr>\n",
       "    <tr>\n",
       "      <th>4</th>\n",
       "      <td>2022-10-08 21:22:20</td>\n",
       "      <td>16223970371660715740s</td>\n",
       "      <td>11839887495958431209u</td>\n",
       "      <td>product_page</td>\n",
       "      <td>page_view</td>\n",
       "      <td>0</td>\n",
       "    </tr>\n",
       "    <tr>\n",
       "      <th>...</th>\n",
       "      <td>...</td>\n",
       "      <td>...</td>\n",
       "      <td>...</td>\n",
       "      <td>...</td>\n",
       "      <td>...</td>\n",
       "      <td>...</td>\n",
       "    </tr>\n",
       "    <tr>\n",
       "      <th>637233</th>\n",
       "      <td>2022-09-30 19:10:47</td>\n",
       "      <td>4337671502003974886s</td>\n",
       "      <td>16408992711249841548u</td>\n",
       "      <td>listing_page</td>\n",
       "      <td>page_view</td>\n",
       "      <td>0</td>\n",
       "    </tr>\n",
       "    <tr>\n",
       "      <th>637234</th>\n",
       "      <td>2022-09-30 14:44:29</td>\n",
       "      <td>13436616217932629112s</td>\n",
       "      <td>18362900391208328063u</td>\n",
       "      <td>listing_page</td>\n",
       "      <td>page_view</td>\n",
       "      <td>0</td>\n",
       "    </tr>\n",
       "    <tr>\n",
       "      <th>637235</th>\n",
       "      <td>2022-09-30 02:20:22</td>\n",
       "      <td>6129704733313384581s</td>\n",
       "      <td>18383133457867141415u</td>\n",
       "      <td>listing_page</td>\n",
       "      <td>page_view</td>\n",
       "      <td>0</td>\n",
       "    </tr>\n",
       "    <tr>\n",
       "      <th>637236</th>\n",
       "      <td>2022-09-30 12:20:04</td>\n",
       "      <td>14145319343967194043s</td>\n",
       "      <td>18403471609558160062u</td>\n",
       "      <td>listing_page</td>\n",
       "      <td>page_view</td>\n",
       "      <td>0</td>\n",
       "    </tr>\n",
       "    <tr>\n",
       "      <th>637237</th>\n",
       "      <td>2022-09-30 08:10:58</td>\n",
       "      <td>8776519620226077650s</td>\n",
       "      <td>18416278413345382629u</td>\n",
       "      <td>listing_page</td>\n",
       "      <td>page_view</td>\n",
       "      <td>0</td>\n",
       "    </tr>\n",
       "  </tbody>\n",
       "</table>\n",
       "<p>637238 rows × 6 columns</p>\n",
       "</div>"
      ],
      "text/plain": [
       "                 event_date                session                   user  \\\n",
       "0       2022-10-08 17:02:41  14274187577460658115s   2006979063809820329u   \n",
       "1       2022-10-08 17:06:19  14274187577460658115s   2006979063809820329u   \n",
       "2       2022-10-08 22:19:47   2704204808571844605s   2007646148110679693u   \n",
       "3       2022-10-08 22:24:30   8970170322512311099s  11839491588321754710u   \n",
       "4       2022-10-08 21:22:20  16223970371660715740s  11839887495958431209u   \n",
       "...                     ...                    ...                    ...   \n",
       "637233  2022-09-30 19:10:47   4337671502003974886s  16408992711249841548u   \n",
       "637234  2022-09-30 14:44:29  13436616217932629112s  18362900391208328063u   \n",
       "637235  2022-09-30 02:20:22   6129704733313384581s  18383133457867141415u   \n",
       "637236  2022-09-30 12:20:04  14145319343967194043s  18403471609558160062u   \n",
       "637237  2022-09-30 08:10:58   8776519620226077650s  18416278413345382629u   \n",
       "\n",
       "                  page_type event_type  product  \n",
       "0       search_listing_page  page_view        0  \n",
       "1       search_listing_page  page_view        0  \n",
       "2              listing_page  page_view        0  \n",
       "3       search_listing_page  page_view        0  \n",
       "4              product_page  page_view        0  \n",
       "...                     ...        ...      ...  \n",
       "637233         listing_page  page_view        0  \n",
       "637234         listing_page  page_view        0  \n",
       "637235         listing_page  page_view        0  \n",
       "637236         listing_page  page_view        0  \n",
       "637237         listing_page  page_view        0  \n",
       "\n",
       "[637238 rows x 6 columns]"
      ]
     },
     "execution_count": 17,
     "metadata": {},
     "output_type": "execute_result"
    }
   ],
   "source": [
    "import pandasql as ps\n",
    "\n",
    "\n",
    "filepath='data_set_da_test.csv'\n",
    "sql_df=pd.read_csv(filepath)\n",
    "\n",
    "#ensure datetime format\n",
    "sql_df['event_date'] = pd.to_datetime(sql_df['event_date'])\n",
    "\n",
    "\n",
    "sql_df\n"
   ]
  },
  {
   "cell_type": "code",
   "execution_count": 23,
   "metadata": {},
   "outputs": [
    {
     "data": {
      "text/html": [
       "<div>\n",
       "<style scoped>\n",
       "    .dataframe tbody tr th:only-of-type {\n",
       "        vertical-align: middle;\n",
       "    }\n",
       "\n",
       "    .dataframe tbody tr th {\n",
       "        vertical-align: top;\n",
       "    }\n",
       "\n",
       "    .dataframe thead th {\n",
       "        text-align: right;\n",
       "    }\n",
       "</style>\n",
       "<table border=\"1\" class=\"dataframe\">\n",
       "  <thead>\n",
       "    <tr style=\"text-align: right;\">\n",
       "      <th></th>\n",
       "      <th>date</th>\n",
       "      <th>users</th>\n",
       "    </tr>\n",
       "  </thead>\n",
       "  <tbody>\n",
       "    <tr>\n",
       "      <th>0</th>\n",
       "      <td>2022-09-30</td>\n",
       "      <td>9924</td>\n",
       "    </tr>\n",
       "    <tr>\n",
       "      <th>1</th>\n",
       "      <td>2022-10-01</td>\n",
       "      <td>9326</td>\n",
       "    </tr>\n",
       "    <tr>\n",
       "      <th>2</th>\n",
       "      <td>2022-10-02</td>\n",
       "      <td>8991</td>\n",
       "    </tr>\n",
       "    <tr>\n",
       "      <th>3</th>\n",
       "      <td>2022-10-03</td>\n",
       "      <td>10660</td>\n",
       "    </tr>\n",
       "    <tr>\n",
       "      <th>4</th>\n",
       "      <td>2022-10-04</td>\n",
       "      <td>10772</td>\n",
       "    </tr>\n",
       "    <tr>\n",
       "      <th>5</th>\n",
       "      <td>2022-10-05</td>\n",
       "      <td>10032</td>\n",
       "    </tr>\n",
       "    <tr>\n",
       "      <th>6</th>\n",
       "      <td>2022-10-06</td>\n",
       "      <td>9836</td>\n",
       "    </tr>\n",
       "    <tr>\n",
       "      <th>7</th>\n",
       "      <td>2022-10-07</td>\n",
       "      <td>8765</td>\n",
       "    </tr>\n",
       "    <tr>\n",
       "      <th>8</th>\n",
       "      <td>2022-10-08</td>\n",
       "      <td>8316</td>\n",
       "    </tr>\n",
       "    <tr>\n",
       "      <th>9</th>\n",
       "      <td>2022-10-09</td>\n",
       "      <td>9146</td>\n",
       "    </tr>\n",
       "    <tr>\n",
       "      <th>10</th>\n",
       "      <td>2022-10-10</td>\n",
       "      <td>11713</td>\n",
       "    </tr>\n",
       "    <tr>\n",
       "      <th>11</th>\n",
       "      <td>2022-10-11</td>\n",
       "      <td>11724</td>\n",
       "    </tr>\n",
       "    <tr>\n",
       "      <th>12</th>\n",
       "      <td>2022-10-12</td>\n",
       "      <td>10373</td>\n",
       "    </tr>\n",
       "    <tr>\n",
       "      <th>13</th>\n",
       "      <td>2022-10-13</td>\n",
       "      <td>10208</td>\n",
       "    </tr>\n",
       "  </tbody>\n",
       "</table>\n",
       "</div>"
      ],
      "text/plain": [
       "          date  users\n",
       "0   2022-09-30   9924\n",
       "1   2022-10-01   9326\n",
       "2   2022-10-02   8991\n",
       "3   2022-10-03  10660\n",
       "4   2022-10-04  10772\n",
       "5   2022-10-05  10032\n",
       "6   2022-10-06   9836\n",
       "7   2022-10-07   8765\n",
       "8   2022-10-08   8316\n",
       "9   2022-10-09   9146\n",
       "10  2022-10-10  11713\n",
       "11  2022-10-11  11724\n",
       "12  2022-10-12  10373\n",
       "13  2022-10-13  10208"
      ]
     },
     "execution_count": 23,
     "metadata": {},
     "output_type": "execute_result"
    }
   ],
   "source": [
    "query = \"\"\"\n",
    "WITH first_sessions AS (\n",
    "    SELECT user, MIN(session) AS first_session\n",
    "    FROM sql_df\n",
    "    GROUP BY user\n",
    "),\n",
    "first_session_events AS (\n",
    "    SELECT sql_df.*\n",
    "    FROM sql_df\n",
    "    JOIN first_sessions\n",
    "    ON sql_df.user = first_sessions.user\n",
    "    AND sql_df.session = first_sessions.first_session\n",
    ")\n",
    "\n",
    "SELECT \n",
    "DATE(event_date) as date, \n",
    "COUNT(DISTINCT user) AS users\n",
    "FROM first_session_events\n",
    "WHERE page_type = 'product_page'\n",
    "GROUP BY date\n",
    "\"\"\"\n",
    "\n",
    "# Run SQL query on DataFrame\n",
    "result = ps.sqldf(query, locals())\n",
    "result"
   ]
  },
  {
   "cell_type": "code",
   "execution_count": 1,
   "metadata": {},
   "outputs": [
    {
     "ename": "NameError",
     "evalue": "name 'ps' is not defined",
     "output_type": "error",
     "traceback": [
      "\u001b[1;31m---------------------------------------------------------------------------\u001b[0m",
      "\u001b[1;31mNameError\u001b[0m                                 Traceback (most recent call last)",
      "Cell \u001b[1;32mIn[1], line 42\u001b[0m\n\u001b[0;32m      1\u001b[0m query \u001b[38;5;241m=\u001b[39m \u001b[38;5;124m\"\"\"\u001b[39m\n\u001b[0;32m      2\u001b[0m \u001b[38;5;124mWITH first_sessions AS (\u001b[39m\n\u001b[0;32m      3\u001b[0m \u001b[38;5;124m    SELECT user, MIN(session) AS first_session\u001b[39m\n\u001b[1;32m   (...)\u001b[0m\n\u001b[0;32m     38\u001b[0m \n\u001b[0;32m     39\u001b[0m \u001b[38;5;124m\"\"\"\u001b[39m\n\u001b[0;32m     41\u001b[0m \u001b[38;5;66;03m# Run SQL query on DataFrame\u001b[39;00m\n\u001b[1;32m---> 42\u001b[0m result \u001b[38;5;241m=\u001b[39m ps\u001b[38;5;241m.\u001b[39msqldf(query, \u001b[38;5;28mlocals\u001b[39m())\n\u001b[0;32m     43\u001b[0m result\n",
      "\u001b[1;31mNameError\u001b[0m: name 'ps' is not defined"
     ]
    }
   ],
   "source": [
    "query = \"\"\"\n",
    "WITH first_sessions AS (\n",
    "    SELECT user, MIN(session) AS first_session\n",
    "    FROM sql_df\n",
    "    GROUP BY user\n",
    "),\n",
    "first_session_events AS (\n",
    "    SELECT sql_df.*\n",
    "    FROM sql_df\n",
    "    JOIN first_sessions\n",
    "    ON sql_df.user = first_sessions.user\n",
    "    AND sql_df.session = first_sessions.first_session\n",
    "),\n",
    "subsequent_sessions AS (\n",
    "    SELECT DISTINCT sql_df.user\n",
    "    FROM sql_df\n",
    "    JOIN first_sessions\n",
    "    ON sql_df.user = first_sessions.user\n",
    "    WHERE sql_df.session != first_sessions.first_session\n",
    "    AND sql_df.page_type = 'product_page'\n",
    "),\n",
    "users_only_first_session AS (\n",
    "    SELECT first_session_events.user\n",
    "    FROM first_session_events\n",
    "    LEFT JOIN subsequent_sessions\n",
    "    ON first_session_events.user = subsequent_sessions.user\n",
    "    WHERE first_session_events.page_type = 'product_page'\n",
    "    AND subsequent_sessions.user IS NULL\n",
    ")\n",
    "\n",
    "SELECT \n",
    "    DATE(first_session_events.event_date) AS date,\n",
    "    COUNT(DISTINCT first_session_events.user) AS users\n",
    "FROM first_session_events\n",
    "JOIN users_only_first_session\n",
    "ON first_session_events.user = users_only_first_session.user\n",
    "GROUP BY date\n",
    "\n",
    "\"\"\"\n",
    "\n",
    "# Run SQL query on DataFrame\n",
    "result = ps.sqldf(query, locals())\n",
    "result"
   ]
  },
  {
   "cell_type": "code",
   "execution_count": null,
   "metadata": {},
   "outputs": [],
   "source": []
  }
 ],
 "metadata": {
  "kernelspec": {
   "display_name": "Python 3",
   "language": "python",
   "name": "python3"
  },
  "language_info": {
   "codemirror_mode": {
    "name": "ipython",
    "version": 3
   },
   "file_extension": ".py",
   "mimetype": "text/x-python",
   "name": "python",
   "nbconvert_exporter": "python",
   "pygments_lexer": "ipython3",
   "version": "3.12.4"
  }
 },
 "nbformat": 4,
 "nbformat_minor": 2
}
